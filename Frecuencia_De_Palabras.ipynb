{
 "cells": [
  {
   "cell_type": "code",
   "execution_count": 106,
   "id": "63dd445c",
   "metadata": {},
   "outputs": [],
   "source": [
    "# Hecho por Ardanny Romero\n",
    "# De un archivo txt seleccionado, mostrar el número de veces que se repite cada palabra, y su longitud. \n",
    "\n",
    "# Texto elegido: Chess Strategy by Edward Lasker"
   ]
  },
  {
   "cell_type": "code",
   "execution_count": 107,
   "id": "b0b1ea5f",
   "metadata": {},
   "outputs": [],
   "source": [
    "with open(\"chess.txt\",\"r\", encoding='utf-8') as file: #El codigo solo me sirve si coloco el encoding='utf-8'\n",
    "    contenido = file.read()\n",
    "\n",
    "palabras = contenido.split() #.split() sirve para dividr string al encontrar un espacio\n",
    "palabras_unicas = []\n",
    "\n",
    "for palabra in palabras:\n",
    "    palabra_limpia = palabra.strip('.,:;()[]{}\"\\'') #.strip es para quitar indicios de esos signos al principio o al final de una palabra\n",
    "    if len(palabra_limpia) >= 4 and palabra_limpia not in palabras_unicas and palabra_limpia.isalpha(): #.isalpha sacar todo lo que tenga numero y puntos (lo use para evitar el www.gutenberg.org) \n",
    "        palabras_unicas.append(palabra_limpia)\n",
    "\n",
    "palabras_unicas.sort() #.sort() es para ordenamiento, en esta caso las manda en orden alfabetico (hice esto para comprobar con palabras individuales a ver si cuenta de forma correcta)\n",
    "\n",
    "#print(f\"Palabras del libro = {palabras_unicas}\")\n",
    "#print(f\"Cantidad de palabras unicas = {len(palabras_unicas)}\")\n"
   ]
  },
  {
   "cell_type": "code",
   "execution_count": 108,
   "id": "5dbcb3a1",
   "metadata": {},
   "outputs": [],
   "source": [
    "def contar(palabra):\n",
    "    veces = contenido.count(palabra)\n",
    "    archivo_salida.write(f\"La palabra {palabra} aparece {veces} veces.\\n\")\n",
    "\n",
    "def longitud(palabra):\n",
    "    long = len(palabra)\n",
    "    archivo_salida.write(f\"La palabra {palabra} tiene una longitud de {long}.\\n\")\n",
    "    "
   ]
  },
  {
   "cell_type": "code",
   "execution_count": 109,
   "id": "2695fd42",
   "metadata": {},
   "outputs": [],
   "source": [
    "with open(\"resultados_romero.txt\",\"w\", encoding='utf-8') as archivo_salida:\n",
    "    archivo_salida.write(\"Archivo de salida. Deber 2 por Ardanny Romero\\n\\n\")\n",
    "    archivo_salida.write(\"---------Datos sobre el libro\\n\\n\")\n",
    "    archivo_salida.write(f\"Palabras en el libro = {palabras_unicas}\\n\")\n",
    "    archivo_salida.write(f\"Cantidad de palabras sin repetirse = {len(palabras_unicas)}\\n\\n\")\n",
    "    archivo_salida.write(\"---------Conteo y medicion de palabras\\n\\n\")\n",
    "\n",
    "    for word in palabras_unicas:\n",
    "        contar(word)\n",
    "        longitud(word)\n"
   ]
  }
 ],
 "metadata": {
  "kernelspec": {
   "display_name": "Python 3",
   "language": "python",
   "name": "python3"
  },
  "language_info": {
   "codemirror_mode": {
    "name": "ipython",
    "version": 3
   },
   "file_extension": ".py",
   "mimetype": "text/x-python",
   "name": "python",
   "nbconvert_exporter": "python",
   "pygments_lexer": "ipython3",
   "version": "3.13.3"
  }
 },
 "nbformat": 4,
 "nbformat_minor": 5
}

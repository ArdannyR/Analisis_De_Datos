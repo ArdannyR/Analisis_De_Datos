{
 "cells": [
  {
   "cell_type": "code",
   "execution_count": null,
   "id": "63dd445c",
   "metadata": {},
   "outputs": [],
   "source": [
    "# Hecho por Ardanny Romero\n",
    "# De un archivo txt seleccionado, mostrar el número de veces que se repite cada palabra, y su longitud. \n",
    "\n",
    "# Texto elegido: Chess Strategy by Edward Lasker"
   ]
  },
  {
   "cell_type": "code",
   "execution_count": null,
   "id": "b0b1ea5f",
   "metadata": {},
   "outputs": [],
   "source": [
    "with open(\"chess.txt\",\"r\", encoding='utf-8') as file: #El codigo solo me sirve si coloco el encoding='utf-8'\n",
    "    contenido = file.read()\n",
    "\n",
    "palabras = contenido.split() #.split() sirve para dividr string al encontrar un espacio\n",
    "palabras_unicas = []\n",
    "\n",
    "for palabra in palabras:\n",
    "    palabra_limpia = palabra.strip('.,:;()[]{}\"\\'') #.strip es para quitar indicios de esos signos al principio o al final de una palabra\n",
    "    if len(palabra_limpia) >= 4 and palabra_limpia not in palabras_unicas and palabra_limpia.isalpha(): #.isalpha sacar todo lo que tenga numero y puntos (lo use para evitar el www.gutenberg.org) \n",
    "        palabras_unicas.append(palabra_limpia)\n",
    "\n",
    "palabras_unicas.sort() #.sort() es para ordenamiento, en esta caso las manda en orden alfabetico (hice esto para comprobar con palabras individuales a ver si cuenta de forma correcta)\n",
    "\n",
    "print(f\"Palabras del libro = {palabras_unicas}\")\n",
    "print(f\"Cantidad de palabras unicas = {len(palabras_unicas)}\")\n"
   ]
  },
  {
   "cell_type": "code",
   "execution_count": null,
   "id": "3d110289",
   "metadata": {},
   "outputs": [],
   "source": [
    "def contar(palabra):\n",
    "    veces = contenido.count(palabra)\n",
    "    return print(f\"La palabra {palabra} aparece {veces} veces.\")"
   ]
  },
  {
   "cell_type": "code",
   "execution_count": null,
   "id": "1e435654",
   "metadata": {},
   "outputs": [],
   "source": [
    "def longitud(palabra):\n",
    "    long = len(palabra)\n",
    "    return print(f\"La palabra {palabra} tiene una longuitud de {long}.\\n\")"
   ]
  },
  {
   "cell_type": "code",
   "execution_count": null,
   "id": "315e71f4",
   "metadata": {},
   "outputs": [],
   "source": [
    "for word in palabras_unicas:\n",
    "    contar(word)\n",
    "    longitud(word)"
   ]
  },
  {
   "cell_type": "code",
   "execution_count": null,
   "id": "de9f39a6",
   "metadata": {},
   "outputs": [],
   "source": [
    "with open(\"chess.txt\",\"r\", encoding='utf-8') as file: # Esta parte no se pidio en el deber, pero la hice para comprobar individualemnte si el conteo era correcto\n",
    "    contenido = file.read()\n",
    "\n",
    "palabra_1 = \"pieces\" \n",
    "contar(palabra_1)\n",
    "longitud(palabra_1)\n",
    "\n",
    "palabra_2 = \"pawns\"\n",
    "contar(palabra_2)\n",
    "longitud(palabra_2)\n",
    "\n",
    "palabra_3 = \"gambit\"\n",
    "contar(palabra_3)\n",
    "longitud(palabra_3)\n",
    "\n",
    "palabra_4 = \"Queen\"\n",
    "contar(palabra_4)\n",
    "longitud(palabra_4)\n",
    "\n",
    "palabra_5 = \"checkmate\"\n",
    "contar(palabra_5)\n",
    "longitud(palabra_5)\n"
   ]
  }
 ],
 "metadata": {
  "kernelspec": {
   "display_name": "Python 3",
   "language": "python",
   "name": "python3"
  },
  "language_info": {
   "codemirror_mode": {
    "name": "ipython",
    "version": 3
   },
   "file_extension": ".py",
   "mimetype": "text/x-python",
   "name": "python",
   "nbconvert_exporter": "python",
   "pygments_lexer": "ipython3",
   "version": "3.13.3"
  }
 },
 "nbformat": 4,
 "nbformat_minor": 5
}
